{
 "cells": [
  {
   "cell_type": "code",
   "execution_count": 1,
   "id": "c03470cb-6b7e-4cb8-81c6-464596e25222",
   "metadata": {},
   "outputs": [],
   "source": [
    "import os\n",
    "import pandas as pd\n",
    "import matplotlib.pyplot as plt\n",
    "from datetime import date, timedelta\n",
    "import pickle\n",
    "import requests\n",
    "import numpy as np\n",
    "from glicko2 import Glicko2\n",
    "from trueskill import TrueSkill\n",
    "from scipy.stats import norm\n",
    "from collections import defaultdict\n",
    "%matplotlib inline"
   ]
  },
  {
   "cell_type": "code",
   "execution_count": 2,
   "id": "e1013836-04d6-493d-870d-37ff5f6b1930",
   "metadata": {},
   "outputs": [],
   "source": [
    "df = pd.read_csv('data.csv')"
   ]
  },
  {
   "cell_type": "markdown",
   "id": "51dfee22-3df0-41e7-a4a5-53c136b4329e",
   "metadata": {},
   "source": [
    "## First look at the data\n",
    "\n",
    "This is real Counter-Strike match data.\n",
    "\n",
    "`perid` is the Bayes Esports identifier\n",
    "\n",
    "- take a look at the available data points\n",
    "- check data integrity\n",
    "- how would you restructure it?"
   ]
  },
  {
   "cell_type": "code",
   "execution_count": null,
   "id": "9d6e161f-e30d-4724-8f4e-cd331fc9907d",
   "metadata": {},
   "outputs": [],
   "source": []
  },
  {
   "cell_type": "code",
   "execution_count": null,
   "id": "dffa863b-4091-4bfb-bfd6-219309ce1975",
   "metadata": {},
   "outputs": [],
   "source": []
  },
  {
   "cell_type": "markdown",
   "id": "48d029df-ce69-4974-8018-488725485cdf",
   "metadata": {},
   "source": [
    "## Elo"
   ]
  },
  {
   "cell_type": "code",
   "execution_count": 5,
   "id": "39160849-59a7-439d-857a-c0b330709d58",
   "metadata": {},
   "outputs": [],
   "source": [
    "# write two functions: one that calculates the expected win probability and one that updates the rating\n",
    "# remember you also need an initial rating value\n",
    "\n",
    "def expected() -> float:\n",
    "    pass\n",
    "\n",
    "def update() -> float:\n",
    "    pass"
   ]
  },
  {
   "cell_type": "code",
   "execution_count": 6,
   "id": "00af5d3b-05b5-43f0-a679-54b16029c61b",
   "metadata": {},
   "outputs": [],
   "source": [
    "# now let's apply that function to the data!"
   ]
  },
  {
   "cell_type": "code",
   "execution_count": 7,
   "id": "0a8222dc-e2de-4fb1-a73d-f030bf94b1c8",
   "metadata": {},
   "outputs": [],
   "source": [
    "# plotting time: let's look at the team with the most ratings in our dataset"
   ]
  },
  {
   "cell_type": "markdown",
   "id": "1ea42e87-e81c-4567-8df7-b26092ff93e0",
   "metadata": {},
   "source": [
    "## Testing Elo quality\n",
    "\n",
    "- We don't need a test set\n",
    "- Ignore calibration time"
   ]
  },
  {
   "cell_type": "markdown",
   "id": "122f7014-105c-493e-bb68-c12173c24fef",
   "metadata": {},
   "source": [
    "## Glicko-2"
   ]
  },
  {
   "cell_type": "code",
   "execution_count": null,
   "id": "4a5c6c4a-5342-40db-885b-e281cbb3dd05",
   "metadata": {},
   "outputs": [],
   "source": [
    "tau = .2\n",
    "sigma = .06\n",
    "mu = 1500\n",
    "phi = 350\n",
    "glicko = Glicko2(mu=mu, phi=phi, tau=tau, sigma=sigma)"
   ]
  },
  {
   "cell_type": "code",
   "execution_count": null,
   "id": "caa31d20-84e2-4fcd-a145-f58da1aac85a",
   "metadata": {},
   "outputs": [],
   "source": [
    "for d, group in df.groupby('date'):\n",
    "    # each team gets an updated rating for the day, but this rating cannot be used\n",
    "    # for rating other teams in the same day, hence we keep it as provisional for now\n",
    "    # it would probably be more interesting to do this on a weekly basis, but then we cannot compare to elo and ts\n",
    "    provisional_ratings = {}\n",
    "    # now go through our list of teams and get their series = all matches they had this week\n",
    "    for team in all_teams:\n",
    "        relevant = group[(group.winner==team) | (group.loser==team)]\n",
    "        old_rating = glicko_ratings[team][-1][-1]\n",
    "        # rewrite the matches in the format taken by the algorithm, which is [(result, opponent_rating)]\n",
    "        series = []\n",
    "        for idx, row in relevant.iterrows():\n",
    "            if row.winner == team:\n",
    "                series.append((1, glicko_ratings[row.loser][-1][-1]))\n",
    "            else:\n",
    "                series.append((0, glicko_ratings[row.winner][-1][-1]))\n",
    "        new_rating = glicko.rate(old_rating, series)\n",
    "        provisional_ratings[team] = new_rating\n",
    "    for k, v in provisional_ratings.items():\n",
    "        glicko_ratings[k].append(((d, v)))"
   ]
  },
  {
   "cell_type": "code",
   "execution_count": null,
   "id": "92b7f4f1-d00b-4a4f-8dd2-32ce408d3241",
   "metadata": {},
   "outputs": [],
   "source": [
    "def predict_glicko_winner(r1, r2):\n",
    "    r1_g2 = glicko.scale_down(r1)\n",
    "    r2_g2 = glicko.scale_down(r2)\n",
    "    # equivalent to calling Glicko2.reduce_impact\n",
    "    g = 1 / np.sqrt(1+3*r1_g2.phi **2 / np.pi**2)\n",
    "    # equivalent to calling Glicko2.expect_score\n",
    "    E = 1 / (1 + np.exp(-g * (r1_g2.mu - r2_g2.mu)))\n",
    "    return E\n",
    "    \n",
    "wp_glicko = [predict_glicko_winner(i, j) for i, j in zip(df.winner_glicko, df.loser_glicko)]"
   ]
  },
  {
   "cell_type": "markdown",
   "id": "27b0bd65-1f80-4489-833a-0fc04ba923d5",
   "metadata": {},
   "source": [
    "## Trueskill"
   ]
  },
  {
   "cell_type": "code",
   "execution_count": null,
   "id": "49b089e4-29c5-4b0b-882a-0a3a98da0f7f",
   "metadata": {},
   "outputs": [],
   "source": [
    "ts = TrueSkill(backend='scipy')"
   ]
  }
 ],
 "metadata": {
  "kernelspec": {
   "display_name": "datalift-workshop",
   "language": "python",
   "name": "datalift-workshop"
  },
  "language_info": {
   "codemirror_mode": {
    "name": "ipython",
    "version": 3
   },
   "file_extension": ".py",
   "mimetype": "text/x-python",
   "name": "python",
   "nbconvert_exporter": "python",
   "pygments_lexer": "ipython3",
   "version": "3.9.12"
  }
 },
 "nbformat": 4,
 "nbformat_minor": 5
}
