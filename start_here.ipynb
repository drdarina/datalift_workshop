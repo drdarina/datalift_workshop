{
 "cells": [
  {
   "cell_type": "code",
   "execution_count": null,
   "id": "c03470cb-6b7e-4cb8-81c6-464596e25222",
   "metadata": {},
   "outputs": [],
   "source": [
    "import os\n",
    "import pandas as pd\n",
    "import matplotlib.pyplot as plt\n",
    "from datetime import date, timedelta\n",
    "import pickle\n",
    "import requests\n",
    "import numpy as np\n",
    "from glicko2 import Glicko2\n",
    "from trueskill import TrueSkill\n",
    "from scipy.stats import norm\n",
    "from collections import defaultdict"
   ]
  },
  {
   "cell_type": "markdown",
   "id": "e7b2cb75-6721-4698-86d1-ce07d9d67365",
   "metadata": {},
   "source": [
    "## First look at the data\n",
    "\n",
    "This dataset contains results from every Bundesliga match from 1993-1994 to 2021-2022. It also includes half time results, but only since 1995-96. Columns include Division (denoted as D1), HomeTeam, AwayTeam, FTHG (final time home goals), FTAG (final time away goals), FTR (full time result), HTHG (half time home goals), HTAG (half time away goals), HTR (half time result), and season.\n",
    "\n",
    "Data compiled into one file from this site: http://www.football-data.co.uk/germanym.php"
   ]
  },
  {
   "cell_type": "code",
   "execution_count": null,
   "id": "5d881a73-c9f5-42ff-bab2-d6abee00e091",
   "metadata": {},
   "outputs": [],
   "source": [
    "df = pd.read_csv('Bundesliga_Results.csv', parse_dates=['Date'])"
   ]
  },
  {
   "cell_type": "code",
   "execution_count": null,
   "id": "43088008-8a4b-4a23-b382-e75716d9c557",
   "metadata": {},
   "outputs": [],
   "source": [
    "# some basic cleaning and rewriting\n",
    "df.sort_values(by='Date', inplace=True)\n",
    "df.reset_index(inplace=True)\n",
    "# clean the team names\n",
    "df.HomeTeam = df.HomeTeam.apply(lambda x: x.lower().replace(' ', ''))\n",
    "df.AwayTeam = df.AwayTeam.apply(lambda x: x.lower().replace(' ', ''))\n",
    "\n",
    "# deduct winner and loser from the scores\n",
    "# add draws to the winner, doesn't really matter\n",
    "df['home_win'] = np.where(df.FTHG >= df.FTAG, 1, 0)\n",
    "df['draw'] = np.where(df.FTHG==df.FTAG, 1, 0)\n",
    "df['away_win'] = np.where(df.FTHG < df.FTAG, 1, 0)\n",
    "\n",
    "df['winner'] = (df.HomeTeam * (df.home_win) + df.AwayTeam * df.away_win)\n",
    "df['loser'] = (df.HomeTeam * (1 - df.home_win) + df.AwayTeam * (1 - df.away_win))\n",
    "\n",
    "print('Dataset contains {} matches from {} to {}. Home won {} ({}%). There were {} draws ({}%).'.format(len(df), df.Date.min().date(), df.Date.max().date(), df.home_win.sum(), int(100*df.home_win.sum()/len(df)), df.draw.sum(), int(100*df.draw.sum()/len(df)) ))"
   ]
  },
  {
   "cell_type": "code",
   "execution_count": null,
   "id": "a4693a6e-5d7f-4730-bff6-278d8cce285d",
   "metadata": {},
   "outputs": [],
   "source": [
    "df.head()"
   ]
  },
  {
   "cell_type": "code",
   "execution_count": null,
   "id": "78c7ed96-299e-4368-ab77-34b1155fee7d",
   "metadata": {},
   "outputs": [],
   "source": [
    "df.to_csv('data_preprocessed.csv')"
   ]
  },
  {
   "cell_type": "code",
   "execution_count": null,
   "id": "2625ebcc-1caf-4c1d-9b98-0e7417eb5526",
   "metadata": {},
   "outputs": [],
   "source": []
  }
 ],
 "metadata": {
  "kernelspec": {
   "display_name": "datalift-workshop",
   "language": "python",
   "name": "datalift-workshop"
  },
  "language_info": {
   "codemirror_mode": {
    "name": "ipython",
    "version": 3
   },
   "file_extension": ".py",
   "mimetype": "text/x-python",
   "name": "python",
   "nbconvert_exporter": "python",
   "pygments_lexer": "ipython3",
   "version": "3.9.12"
  }
 },
 "nbformat": 4,
 "nbformat_minor": 5
}
